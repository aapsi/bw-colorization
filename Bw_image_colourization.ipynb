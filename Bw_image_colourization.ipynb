{
 "cells": [
  {
   "cell_type": "code",
   "execution_count": 10,
   "metadata": {},
   "outputs": [
    {
     "name": "stdout",
     "output_type": "stream",
     "text": [
      "Model Working!!!\n"
     ]
    },
    {
     "data": {
      "text/plain": [
       "-1"
      ]
     },
     "execution_count": 10,
     "metadata": {},
     "output_type": "execute_result"
    }
   ],
   "source": [
    "# import the necessary packages\n",
    "import numpy as np\n",
    "import argparse\n",
    "import cv2\n",
    "\n",
    "args = {\n",
    "    \"prototxt\" : 'model/colorization_deploy_v2.prototxt',\n",
    "    \"model\" : 'model/colorization_release_v2.caffemodel',\n",
    "    \"points\" : 'model/pts_in_hull.npy',\n",
    "    \"image\" :'images/khaira.jpg'\n",
    "}\n",
    "# load black and white colorizer model \n",
    "# and cluster center points from using the path to the files\n",
    "print(\"Model Working!!!\")\n",
    "net = cv2.dnn.readNetFromCaffe(args[\"prototxt\"], args[\"model\"])\n",
    "pts = np.load(args[\"points\"])\n",
    "\n",
    "# add the cluster centers as 1x1 convolutions to the model\n",
    "class8 = net.getLayerId(\"class8_ab\")\n",
    "conv8 = net.getLayerId(\"conv8_313_rh\")\n",
    "pts = pts.transpose().reshape(2, 313, 1, 1)\n",
    "net.getLayer(class8).blobs = [pts.astype(\"float32\")]\n",
    "net.getLayer(conv8).blobs = [np.full([1, 313], 2.606, dtype=\"float32\")]\n",
    "\n",
    "# load the input image from disk, scale the pixel intensities to the\n",
    "# range [0, 1], and then convert the image from the BGR to Lab color\n",
    "# space\n",
    "image = cv2.imread(args[\"image\"])\n",
    "scaled = image.astype(\"float32\") / 255.0\n",
    "lab = cv2.cvtColor(scaled, cv2.COLOR_BGR2LAB)\n",
    "\n",
    "# resize the Lab image to 224x224 (the dimensions the colorization\n",
    "# network accepts), split channels, extract the 'L' channel, and then\n",
    "# perform mean centering\n",
    "resized = cv2.resize(lab, (224, 224))\n",
    "L = cv2.split(resized)[0]\n",
    "L -= 50\n",
    "\n",
    "# pass the L channel through the network which will *predict* the 'a'\n",
    "# and 'b' channel values\n",
    "'print(\"[INFO] colorizing image...\")'\n",
    "net.setInput(cv2.dnn.blobFromImage(L))\n",
    "ab = net.forward()[0, :, :, :].transpose((1, 2, 0))\n",
    "\n",
    "# resize the predicted 'ab' volume to the same dimensions as our\n",
    "# input image\n",
    "ab = cv2.resize(ab, (image.shape[1], image.shape[0]))\n",
    "\n",
    "# grab the 'L' channel from the *original* input image (not the\n",
    "# resized one) and concatenate the original 'L' channel with the\n",
    "# predicted 'ab' channels\n",
    "L = cv2.split(lab)[0]\n",
    "colorized = np.concatenate((L[:, :, np.newaxis], ab), axis=2)\n",
    "\n",
    "# convert the output image from the 'Lab' color space to RGB, then\n",
    "# clip any values that fall outside the range [0, 1]\n",
    "colorized = cv2.cvtColor(colorized, cv2.COLOR_LAB2BGR)\n",
    "colorized = np.clip(colorized, 0, 1)\n",
    "\n",
    "# the current colorized image is represented as a floating point\n",
    "# data type in the range [0, 1] -- let's convert to an unsigned\n",
    "# 8-bit integer representation in the range [0, 255]\n",
    "colorized = (255 * colorized).astype(\"uint8\")\n",
    "\n",
    "# show the original and output colorized images\n",
    "cv2.imshow(\"Original\", image)\n",
    "cv2.imshow(\"Colorized\", colorized)\n",
    "cv2.waitKey(0)"
   ]
  },
  {
   "cell_type": "code",
   "execution_count": null,
   "metadata": {},
   "outputs": [],
   "source": []
  },
  {
   "cell_type": "code",
   "execution_count": null,
   "metadata": {},
   "outputs": [],
   "source": []
  }
 ],
 "metadata": {
  "kernelspec": {
   "display_name": "Python 3",
   "language": "python",
   "name": "python3"
  },
  "language_info": {
   "codemirror_mode": {
    "name": "ipython",
    "version": 3
   },
   "file_extension": ".py",
   "mimetype": "text/x-python",
   "name": "python",
   "nbconvert_exporter": "python",
   "pygments_lexer": "ipython3",
   "version": "3.7.3"
  }
 },
 "nbformat": 4,
 "nbformat_minor": 2
}
